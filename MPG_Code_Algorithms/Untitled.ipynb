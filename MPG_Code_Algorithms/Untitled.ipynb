{
 "cells": [
  {
   "cell_type": "code",
   "execution_count": 8,
   "id": "4e86f865",
   "metadata": {},
   "outputs": [],
   "source": [
    "import numpy as np\n",
    "from math import comb\n",
    "import tqdm\n",
    "from helpers import projection_simplex_sort\n",
    "import copy\n",
    "import matplotlib.pyplot as plt\n",
    "import itertools as it\n",
    "import os\n",
    "import statistics\n",
    "import seaborn as sns; sns.set()\n",
    "import itertools"
   ]
  },
  {
   "cell_type": "code",
   "execution_count": null,
   "id": "7de8c2ab",
   "metadata": {},
   "outputs": [],
   "source": [
    "class TeamGame:\n",
    "    def __init__(self,n):\n",
    "        self.n = n\n",
    "        self.epsilon = 1/(10*n)\n",
    "        "
   ]
  },
  {
   "cell_type": "code",
   "execution_count": 6,
   "id": "770d19ef",
   "metadata": {},
   "outputs": [
    {
     "ename": "IndentationError",
     "evalue": "unindent does not match any outer indentation level (<tokenize>, line 27)",
     "output_type": "error",
     "traceback": [
      "\u001b[0;36m  File \u001b[0;32m\"<tokenize>\"\u001b[0;36m, line \u001b[0;32m27\u001b[0m\n\u001b[0;31m    return s\u001b[0m\n\u001b[0m    ^\u001b[0m\n\u001b[0;31mIndentationError\u001b[0m\u001b[0;31m:\u001b[0m unindent does not match any outer indentation level\n"
     ]
    }
   ],
   "source": [
    "class TeamGame:\n",
    "\t#inputs: num players, max facilities per player, list of linear multiplier on utility for num of players\n",
    "\tdef __init__(self, n):\n",
    "\t\tself.n = n # num of players\n",
    "\t\tself.epsilon = 1/(10*n)\n",
    "\t\tself.actions = [ np.random.choice(2, 1)[0] for i in range(n)]\n",
    "\t\tself.num_actions = 2\n",
    "\t\tself.all_states = [0, 1]\n",
    "\t\tself.S = len(self.all_states) # num_states\n",
    "\n",
    "\n",
    "\tdef get_counts(self, actions):\n",
    "\t\treturn np.sum(actions)\n",
    "\n",
    "\tdef get_public_rewards(self, actions, state):\n",
    "\t\tdensity = self.get_counts(actions)\n",
    "\t\tif density < self.n / 2:\n",
    "\t\t\treturn 0, 0\n",
    "\t\telse:\n",
    "\t\t\treturn 1, r(state)\n",
    "\n",
    "def r(s):\n",
    "\t\"\"\"\n",
    "\tFree feel to modify this part\n",
    "    \"\"\"\n",
    "\t# s: 0-low excitement, 1-high excitement\n",
    "    return s\n",
    "        \n",
    "\n",
    "def xi(i, s, a, n, epsilon):\n",
    "\t\"\"\"\n",
    "\tFree feel to modify this part\n",
    "    \"\"\"\n",
    "\txi = (s ==a) * ((n+1 -i)/n)  * 5 - a * ((i+1)/n)\n",
    "\treturn xi * epsilon\n",
    "\n",
    "def get_reward(game, actions, state):\n",
    "\tagents_rewards = game.n * [0]\n",
    "\n",
    "\tdensity, public_reward = game.get_public_rewards(actions, state)\n",
    "\tif density == 0:\n",
    "\t\treturn agents_rewards\n",
    "\t\n",
    "\tfor i in range(game.n):\n",
    "\t\tagents_rewards[i] = public_reward + xi(i, state, actions[i], game.n, game.epsilon)\n",
    "\treturn agents_rewards"
   ]
  },
  {
   "cell_type": "code",
   "execution_count": null,
   "id": "b7e903d9",
   "metadata": {},
   "outputs": [],
   "source": []
  }
 ],
 "metadata": {
  "kernelspec": {
   "display_name": "Python 3 (ipykernel)",
   "language": "python",
   "name": "python3"
  },
  "language_info": {
   "codemirror_mode": {
    "name": "ipython",
    "version": 3
   },
   "file_extension": ".py",
   "mimetype": "text/x-python",
   "name": "python",
   "nbconvert_exporter": "python",
   "pygments_lexer": "ipython3",
   "version": "3.9.13"
  }
 },
 "nbformat": 4,
 "nbformat_minor": 5
}
